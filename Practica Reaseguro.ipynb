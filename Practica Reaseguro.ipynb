{
 "cells": [
  {
   "cell_type": "code",
   "execution_count": 1,
   "metadata": {},
   "outputs": [],
   "source": [
    "import pandas as pd"
   ]
  },
  {
   "cell_type": "markdown",
   "metadata": {},
   "source": [
    "# Cuota parte"
   ]
  },
  {
   "cell_type": "code",
   "execution_count": 2,
   "metadata": {},
   "outputs": [],
   "source": [
    "def cuota_parte(cuota,capacidad,SA,PE,SIN,Rea):\n",
    "    \"\"\"Función que calcula el contrato de reaguro cuota parte\n",
    "    \n",
    "    Inputs:\n",
    "    Cuota: float\n",
    "    \n",
    "    Es el porcentaje de la cuota parte\n",
    "    \n",
    "    Capacidad: float\n",
    "    \n",
    "    Es la capacidad del contrato\n",
    "    \n",
    "    SA: float\n",
    "    \n",
    "    Es la suma asegurada\n",
    "    \n",
    "    PE: float\n",
    "    \n",
    "    Es el valor de la prima emitida\n",
    "    \n",
    "    SIN: float\n",
    "    \n",
    "     Es el valor del siniestro\n",
    "     \n",
    "     Rea:list\n",
    "     \n",
    "     Lista con los porcentajes de las reaseguradoras\n",
    "    \n",
    "    Output:\n",
    "    DataFrame\n",
    "    \n",
    "    \"\"\"\n",
    "    minimo=min(cuota*SA,cuota*capacidad)\n",
    "    if minimo==cuota*SA:\n",
    "        Sa=[minimo]\n",
    "        for ase in Rea:\n",
    "            Sa+=[(SA-Sa[0])*ase]\n",
    "        porcentajes=[x/SA for x in Sa]\n",
    "        primas=[p*PE for p in porcentajes]\n",
    "        siniestros=[p*SIN for p in porcentajes]\n",
    "        columnas=[\"Retención\"]+[\"CP Reaseguradora \"+str(r+1) for r  in range(len(Rea))]\n",
    "\n",
    "    else:\n",
    "        facultativo=SA-capacidad\n",
    "        Sa=[capacidad*cuota]\n",
    "        for ase in Rea:\n",
    "                Sa+=[capacidad*(1-cuota)*ase]\n",
    "        Sa+=[facultativo]\n",
    "        porcentajes=[x/SA for x in Sa]\n",
    "        primas=[p*PE for p in porcentajes]\n",
    "        siniestros=[p*SIN for p in porcentajes]\n",
    "        columnas=[\"Retención\"]+[\"CP Reaseguradora \"+str(r+1) for r  in range(len(Rea))]+['Facultativo']\n",
    "\n",
    "    df= pd.DataFrame([Sa,primas,siniestros],columns=columnas).T\n",
    "    df.columns=['Suma Asegurada','Prima','Siniestro']\n",
    "    return df"
   ]
  },
  {
   "cell_type": "code",
   "execution_count": 3,
   "metadata": {},
   "outputs": [
    {
     "data": {
      "text/html": [
       "<div>\n",
       "<style scoped>\n",
       "    .dataframe tbody tr th:only-of-type {\n",
       "        vertical-align: middle;\n",
       "    }\n",
       "\n",
       "    .dataframe tbody tr th {\n",
       "        vertical-align: top;\n",
       "    }\n",
       "\n",
       "    .dataframe thead th {\n",
       "        text-align: right;\n",
       "    }\n",
       "</style>\n",
       "<table border=\"1\" class=\"dataframe\">\n",
       "  <thead>\n",
       "    <tr style=\"text-align: right;\">\n",
       "      <th></th>\n",
       "      <th>Suma Asegurada</th>\n",
       "      <th>Prima</th>\n",
       "      <th>Siniestro</th>\n",
       "    </tr>\n",
       "  </thead>\n",
       "  <tbody>\n",
       "    <tr>\n",
       "      <th>Retención</th>\n",
       "      <td>240000.0</td>\n",
       "      <td>10000.0</td>\n",
       "      <td>48000.0</td>\n",
       "    </tr>\n",
       "    <tr>\n",
       "      <th>CP Reaseguradora 1</th>\n",
       "      <td>108000.0</td>\n",
       "      <td>4500.0</td>\n",
       "      <td>21600.0</td>\n",
       "    </tr>\n",
       "    <tr>\n",
       "      <th>CP Reaseguradora 2</th>\n",
       "      <td>252000.0</td>\n",
       "      <td>10500.0</td>\n",
       "      <td>50400.0</td>\n",
       "    </tr>\n",
       "  </tbody>\n",
       "</table>\n",
       "</div>"
      ],
      "text/plain": [
       "                    Suma Asegurada    Prima  Siniestro\n",
       "Retención                 240000.0  10000.0    48000.0\n",
       "CP Reaseguradora 1        108000.0   4500.0    21600.0\n",
       "CP Reaseguradora 2        252000.0  10500.0    50400.0"
      ]
     },
     "execution_count": 3,
     "metadata": {},
     "output_type": "execute_result"
    }
   ],
   "source": [
    "#Ejemplo 1\n",
    "cuota_parte(0.4,2_000_000,600_000,25_000,120_000,[0.3,0.7])"
   ]
  },
  {
   "cell_type": "code",
   "execution_count": 4,
   "metadata": {},
   "outputs": [
    {
     "data": {
      "text/html": [
       "<div>\n",
       "<style scoped>\n",
       "    .dataframe tbody tr th:only-of-type {\n",
       "        vertical-align: middle;\n",
       "    }\n",
       "\n",
       "    .dataframe tbody tr th {\n",
       "        vertical-align: top;\n",
       "    }\n",
       "\n",
       "    .dataframe thead th {\n",
       "        text-align: right;\n",
       "    }\n",
       "</style>\n",
       "<table border=\"1\" class=\"dataframe\">\n",
       "  <thead>\n",
       "    <tr style=\"text-align: right;\">\n",
       "      <th></th>\n",
       "      <th>Suma Asegurada</th>\n",
       "      <th>Prima</th>\n",
       "      <th>Siniestro</th>\n",
       "    </tr>\n",
       "  </thead>\n",
       "  <tbody>\n",
       "    <tr>\n",
       "      <th>Retención</th>\n",
       "      <td>240000.0</td>\n",
       "      <td>10000.0</td>\n",
       "      <td>48000.0</td>\n",
       "    </tr>\n",
       "    <tr>\n",
       "      <th>CP Reaseguradora 1</th>\n",
       "      <td>360000.0</td>\n",
       "      <td>15000.0</td>\n",
       "      <td>72000.0</td>\n",
       "    </tr>\n",
       "    <tr>\n",
       "      <th>CP Reaseguradora 2</th>\n",
       "      <td>0.0</td>\n",
       "      <td>0.0</td>\n",
       "      <td>0.0</td>\n",
       "    </tr>\n",
       "  </tbody>\n",
       "</table>\n",
       "</div>"
      ],
      "text/plain": [
       "                    Suma Asegurada    Prima  Siniestro\n",
       "Retención                 240000.0  10000.0    48000.0\n",
       "CP Reaseguradora 1        360000.0  15000.0    72000.0\n",
       "CP Reaseguradora 2             0.0      0.0        0.0"
      ]
     },
     "execution_count": 4,
     "metadata": {},
     "output_type": "execute_result"
    }
   ],
   "source": [
    "#Ejempolo 2\n",
    "cuota_parte(0.4,2_000_000,600_000,25_000,120_000,[1,0])"
   ]
  },
  {
   "cell_type": "code",
   "execution_count": 5,
   "metadata": {},
   "outputs": [
    {
     "data": {
      "text/html": [
       "<div>\n",
       "<style scoped>\n",
       "    .dataframe tbody tr th:only-of-type {\n",
       "        vertical-align: middle;\n",
       "    }\n",
       "\n",
       "    .dataframe tbody tr th {\n",
       "        vertical-align: top;\n",
       "    }\n",
       "\n",
       "    .dataframe thead th {\n",
       "        text-align: right;\n",
       "    }\n",
       "</style>\n",
       "<table border=\"1\" class=\"dataframe\">\n",
       "  <thead>\n",
       "    <tr style=\"text-align: right;\">\n",
       "      <th></th>\n",
       "      <th>Suma Asegurada</th>\n",
       "      <th>Prima</th>\n",
       "      <th>Siniestro</th>\n",
       "    </tr>\n",
       "  </thead>\n",
       "  <tbody>\n",
       "    <tr>\n",
       "      <th>Retención</th>\n",
       "      <td>1200000.0</td>\n",
       "      <td>8571.428571</td>\n",
       "      <td>85714.285714</td>\n",
       "    </tr>\n",
       "    <tr>\n",
       "      <th>CP Reaseguradora 1</th>\n",
       "      <td>320000.0</td>\n",
       "      <td>2285.714286</td>\n",
       "      <td>22857.142857</td>\n",
       "    </tr>\n",
       "    <tr>\n",
       "      <th>CP Reaseguradora 2</th>\n",
       "      <td>480000.0</td>\n",
       "      <td>3428.571429</td>\n",
       "      <td>34285.714286</td>\n",
       "    </tr>\n",
       "    <tr>\n",
       "      <th>Facultativo</th>\n",
       "      <td>1500000.0</td>\n",
       "      <td>10714.285714</td>\n",
       "      <td>107142.857143</td>\n",
       "    </tr>\n",
       "  </tbody>\n",
       "</table>\n",
       "</div>"
      ],
      "text/plain": [
       "                    Suma Asegurada         Prima      Siniestro\n",
       "Retención                1200000.0   8571.428571   85714.285714\n",
       "CP Reaseguradora 1        320000.0   2285.714286   22857.142857\n",
       "CP Reaseguradora 2        480000.0   3428.571429   34285.714286\n",
       "Facultativo              1500000.0  10714.285714  107142.857143"
      ]
     },
     "execution_count": 5,
     "metadata": {},
     "output_type": "execute_result"
    }
   ],
   "source": [
    "#Ejempolo 3\n",
    "cuota_parte(0.6,2_000_000,3_500_000,25_000,250_000,[0.4,0.6])"
   ]
  },
  {
   "cell_type": "code",
   "execution_count": 6,
   "metadata": {},
   "outputs": [
    {
     "data": {
      "text/html": [
       "<div>\n",
       "<style scoped>\n",
       "    .dataframe tbody tr th:only-of-type {\n",
       "        vertical-align: middle;\n",
       "    }\n",
       "\n",
       "    .dataframe tbody tr th {\n",
       "        vertical-align: top;\n",
       "    }\n",
       "\n",
       "    .dataframe thead th {\n",
       "        text-align: right;\n",
       "    }\n",
       "</style>\n",
       "<table border=\"1\" class=\"dataframe\">\n",
       "  <thead>\n",
       "    <tr style=\"text-align: right;\">\n",
       "      <th></th>\n",
       "      <th>Suma Asegurada</th>\n",
       "      <th>Prima</th>\n",
       "      <th>Siniestro</th>\n",
       "    </tr>\n",
       "  </thead>\n",
       "  <tbody>\n",
       "    <tr>\n",
       "      <th>Retención</th>\n",
       "      <td>800000.0</td>\n",
       "      <td>22400.0</td>\n",
       "      <td>160000.0</td>\n",
       "    </tr>\n",
       "    <tr>\n",
       "      <th>CP Reaseguradora 1</th>\n",
       "      <td>360000.0</td>\n",
       "      <td>10080.0</td>\n",
       "      <td>72000.0</td>\n",
       "    </tr>\n",
       "    <tr>\n",
       "      <th>CP Reaseguradora 2</th>\n",
       "      <td>840000.0</td>\n",
       "      <td>23520.0</td>\n",
       "      <td>168000.0</td>\n",
       "    </tr>\n",
       "    <tr>\n",
       "      <th>Facultativo</th>\n",
       "      <td>500000.0</td>\n",
       "      <td>14000.0</td>\n",
       "      <td>100000.0</td>\n",
       "    </tr>\n",
       "  </tbody>\n",
       "</table>\n",
       "</div>"
      ],
      "text/plain": [
       "                    Suma Asegurada    Prima  Siniestro\n",
       "Retención                 800000.0  22400.0   160000.0\n",
       "CP Reaseguradora 1        360000.0  10080.0    72000.0\n",
       "CP Reaseguradora 2        840000.0  23520.0   168000.0\n",
       "Facultativo               500000.0  14000.0   100000.0"
      ]
     },
     "execution_count": 6,
     "metadata": {},
     "output_type": "execute_result"
    }
   ],
   "source": [
    "#Ejemplo 4\n",
    "cuota_parte(0.4,2_000_000,2_500_000,70_000,500_000,[0.3,0.7])"
   ]
  },
  {
   "cell_type": "code",
   "execution_count": 7,
   "metadata": {},
   "outputs": [
    {
     "data": {
      "text/html": [
       "<div>\n",
       "<style scoped>\n",
       "    .dataframe tbody tr th:only-of-type {\n",
       "        vertical-align: middle;\n",
       "    }\n",
       "\n",
       "    .dataframe tbody tr th {\n",
       "        vertical-align: top;\n",
       "    }\n",
       "\n",
       "    .dataframe thead th {\n",
       "        text-align: right;\n",
       "    }\n",
       "</style>\n",
       "<table border=\"1\" class=\"dataframe\">\n",
       "  <thead>\n",
       "    <tr style=\"text-align: right;\">\n",
       "      <th></th>\n",
       "      <th>Suma Asegurada</th>\n",
       "      <th>Prima</th>\n",
       "      <th>Siniestro</th>\n",
       "    </tr>\n",
       "  </thead>\n",
       "  <tbody>\n",
       "    <tr>\n",
       "      <th>Retención</th>\n",
       "      <td>900000.0</td>\n",
       "      <td>20000.000000</td>\n",
       "      <td>160000.000000</td>\n",
       "    </tr>\n",
       "    <tr>\n",
       "      <th>CP Reaseguradora 1</th>\n",
       "      <td>840000.0</td>\n",
       "      <td>18666.666667</td>\n",
       "      <td>149333.333333</td>\n",
       "    </tr>\n",
       "    <tr>\n",
       "      <th>CP Reaseguradora 2</th>\n",
       "      <td>1050000.0</td>\n",
       "      <td>23333.333333</td>\n",
       "      <td>186666.666667</td>\n",
       "    </tr>\n",
       "    <tr>\n",
       "      <th>CP Reaseguradora 3</th>\n",
       "      <td>210000.0</td>\n",
       "      <td>4666.666667</td>\n",
       "      <td>37333.333333</td>\n",
       "    </tr>\n",
       "    <tr>\n",
       "      <th>Facultativo</th>\n",
       "      <td>1500000.0</td>\n",
       "      <td>33333.333333</td>\n",
       "      <td>266666.666667</td>\n",
       "    </tr>\n",
       "  </tbody>\n",
       "</table>\n",
       "</div>"
      ],
      "text/plain": [
       "                    Suma Asegurada         Prima      Siniestro\n",
       "Retención                 900000.0  20000.000000  160000.000000\n",
       "CP Reaseguradora 1        840000.0  18666.666667  149333.333333\n",
       "CP Reaseguradora 2       1050000.0  23333.333333  186666.666667\n",
       "CP Reaseguradora 3        210000.0   4666.666667   37333.333333\n",
       "Facultativo              1500000.0  33333.333333  266666.666667"
      ]
     },
     "execution_count": 7,
     "metadata": {},
     "output_type": "execute_result"
    }
   ],
   "source": [
    "#Ejemplo 5\n",
    "cuota_parte(0.3,3_000_000,4_500_000,100_000,800_000,[0.4,0.5,0.1])"
   ]
  },
  {
   "cell_type": "markdown",
   "metadata": {},
   "source": [
    "# Excedentes"
   ]
  },
  {
   "cell_type": "code",
   "execution_count": 8,
   "metadata": {},
   "outputs": [],
   "source": [
    "def excedentes(limite, lineas,SA,PE,Sin,REA):\n",
    "    \"\"\"\n",
    "    Función que calcula los contratos de excedentes \n",
    "    \n",
    "    inputs:\n",
    "    \n",
    "    limite: float\n",
    "    \n",
    "    Es el limite de rentención por líneas\n",
    "    \n",
    "    lineas: float\n",
    "    \n",
    "    Es el limite de lineas que tiene el contrato\n",
    "    \n",
    "    SA: float\n",
    "    \n",
    "    Es el valor de la suma asegurada\n",
    "    \n",
    "    PE:float\n",
    "    \n",
    "    Es el valor de la prima emitida\n",
    "    \n",
    "    Sin: foat\n",
    "    \n",
    "    Es el valor del siniestro\n",
    "    \n",
    "    REA:list\n",
    "    \n",
    "    Lista con los porcentajes de las reaseguradoras\n",
    "    \n",
    "    Output:\n",
    "    DataFrame\n",
    "    \"\"\"\n",
    "    capacidad=limite*lineas\n",
    "    if sum(REA)>1:\n",
    "        REA=[r/100 for r in REA]\n",
    "    if capacidad>SA:\n",
    "        exceden=[limite]+[(SA-limite)*re for re in REA]\n",
    "        columnas=[\"Retención\"]+['Excedente Reaseguradora '+str(i+1) for i in range(len(REA))]\n",
    "    else:\n",
    "        exceden=[limite]+[(capacidad)*re for re in REA]\n",
    "        facultativo=SA-sum(exceden)\n",
    "        exceden=exceden+[facultativo]\n",
    "        columnas=[\"Retención\"]+['Excedente Reaseguradora '+str(i+1) for i in range(len(REA))]+['Facultativo']\n",
    "    porcentajes=[exc/SA for exc in exceden]\n",
    "    primas=[PE*por for por in porcentajes]\n",
    "    siniestros=[Sin*por for por in porcentajes]\n",
    "\n",
    "    df= pd.DataFrame([exceden,primas,siniestros],columns=columnas).T\n",
    "    df.columns=['Suma Asegurada','Prima','Siniestro']\n",
    "    \n",
    "    return df"
   ]
  },
  {
   "cell_type": "code",
   "execution_count": 9,
   "metadata": {},
   "outputs": [
    {
     "data": {
      "text/html": [
       "<div>\n",
       "<style scoped>\n",
       "    .dataframe tbody tr th:only-of-type {\n",
       "        vertical-align: middle;\n",
       "    }\n",
       "\n",
       "    .dataframe tbody tr th {\n",
       "        vertical-align: top;\n",
       "    }\n",
       "\n",
       "    .dataframe thead th {\n",
       "        text-align: right;\n",
       "    }\n",
       "</style>\n",
       "<table border=\"1\" class=\"dataframe\">\n",
       "  <thead>\n",
       "    <tr style=\"text-align: right;\">\n",
       "      <th></th>\n",
       "      <th>Suma Asegurada</th>\n",
       "      <th>Prima</th>\n",
       "      <th>Siniestro</th>\n",
       "    </tr>\n",
       "  </thead>\n",
       "  <tbody>\n",
       "    <tr>\n",
       "      <th>Retención</th>\n",
       "      <td>500000.0</td>\n",
       "      <td>20833.333333</td>\n",
       "      <td>250000.0</td>\n",
       "    </tr>\n",
       "    <tr>\n",
       "      <th>Excedente Reaseguradora 1</th>\n",
       "      <td>100000.0</td>\n",
       "      <td>4166.666667</td>\n",
       "      <td>50000.0</td>\n",
       "    </tr>\n",
       "  </tbody>\n",
       "</table>\n",
       "</div>"
      ],
      "text/plain": [
       "                           Suma Asegurada         Prima  Siniestro\n",
       "Retención                        500000.0  20833.333333   250000.0\n",
       "Excedente Reaseguradora 1        100000.0   4166.666667    50000.0"
      ]
     },
     "execution_count": 9,
     "metadata": {},
     "output_type": "execute_result"
    }
   ],
   "source": [
    "#Ejemplo 1\n",
    "excedentes(500_000,10,600_000,25_000,300_000,[1])"
   ]
  },
  {
   "cell_type": "code",
   "execution_count": 10,
   "metadata": {},
   "outputs": [
    {
     "data": {
      "text/html": [
       "<div>\n",
       "<style scoped>\n",
       "    .dataframe tbody tr th:only-of-type {\n",
       "        vertical-align: middle;\n",
       "    }\n",
       "\n",
       "    .dataframe tbody tr th {\n",
       "        vertical-align: top;\n",
       "    }\n",
       "\n",
       "    .dataframe thead th {\n",
       "        text-align: right;\n",
       "    }\n",
       "</style>\n",
       "<table border=\"1\" class=\"dataframe\">\n",
       "  <thead>\n",
       "    <tr style=\"text-align: right;\">\n",
       "      <th></th>\n",
       "      <th>Suma Asegurada</th>\n",
       "      <th>Prima</th>\n",
       "      <th>Siniestro</th>\n",
       "    </tr>\n",
       "  </thead>\n",
       "  <tbody>\n",
       "    <tr>\n",
       "      <th>Retención</th>\n",
       "      <td>500000.0</td>\n",
       "      <td>13333.333333</td>\n",
       "      <td>50000.0</td>\n",
       "    </tr>\n",
       "    <tr>\n",
       "      <th>Excedente Reaseguradora 1</th>\n",
       "      <td>875000.0</td>\n",
       "      <td>23333.333333</td>\n",
       "      <td>87500.0</td>\n",
       "    </tr>\n",
       "    <tr>\n",
       "      <th>Excedente Reaseguradora 2</th>\n",
       "      <td>1625000.0</td>\n",
       "      <td>43333.333333</td>\n",
       "      <td>162500.0</td>\n",
       "    </tr>\n",
       "  </tbody>\n",
       "</table>\n",
       "</div>"
      ],
      "text/plain": [
       "                           Suma Asegurada         Prima  Siniestro\n",
       "Retención                        500000.0  13333.333333    50000.0\n",
       "Excedente Reaseguradora 1        875000.0  23333.333333    87500.0\n",
       "Excedente Reaseguradora 2       1625000.0  43333.333333   162500.0"
      ]
     },
     "execution_count": 10,
     "metadata": {},
     "output_type": "execute_result"
    }
   ],
   "source": [
    "#Ejemplo 2\n",
    "excedentes(500_000,10, 3_000_000,80_000, 300_000,[35,65])"
   ]
  },
  {
   "cell_type": "code",
   "execution_count": 11,
   "metadata": {},
   "outputs": [
    {
     "data": {
      "text/html": [
       "<div>\n",
       "<style scoped>\n",
       "    .dataframe tbody tr th:only-of-type {\n",
       "        vertical-align: middle;\n",
       "    }\n",
       "\n",
       "    .dataframe tbody tr th {\n",
       "        vertical-align: top;\n",
       "    }\n",
       "\n",
       "    .dataframe thead th {\n",
       "        text-align: right;\n",
       "    }\n",
       "</style>\n",
       "<table border=\"1\" class=\"dataframe\">\n",
       "  <thead>\n",
       "    <tr style=\"text-align: right;\">\n",
       "      <th></th>\n",
       "      <th>Suma Asegurada</th>\n",
       "      <th>Prima</th>\n",
       "      <th>Siniestro</th>\n",
       "    </tr>\n",
       "  </thead>\n",
       "  <tbody>\n",
       "    <tr>\n",
       "      <th>Retención</th>\n",
       "      <td>500000.0</td>\n",
       "      <td>11428.571429</td>\n",
       "      <td>21428.571429</td>\n",
       "    </tr>\n",
       "    <tr>\n",
       "      <th>Excedente Reaseguradora 1</th>\n",
       "      <td>1000000.0</td>\n",
       "      <td>22857.142857</td>\n",
       "      <td>42857.142857</td>\n",
       "    </tr>\n",
       "    <tr>\n",
       "      <th>Excedente Reaseguradora 2</th>\n",
       "      <td>1500000.0</td>\n",
       "      <td>34285.714286</td>\n",
       "      <td>64285.714286</td>\n",
       "    </tr>\n",
       "    <tr>\n",
       "      <th>Excedente Reaseguradora 3</th>\n",
       "      <td>2500000.0</td>\n",
       "      <td>57142.857143</td>\n",
       "      <td>107142.857143</td>\n",
       "    </tr>\n",
       "    <tr>\n",
       "      <th>Facultativo</th>\n",
       "      <td>1500000.0</td>\n",
       "      <td>34285.714286</td>\n",
       "      <td>64285.714286</td>\n",
       "    </tr>\n",
       "  </tbody>\n",
       "</table>\n",
       "</div>"
      ],
      "text/plain": [
       "                           Suma Asegurada         Prima      Siniestro\n",
       "Retención                        500000.0  11428.571429   21428.571429\n",
       "Excedente Reaseguradora 1       1000000.0  22857.142857   42857.142857\n",
       "Excedente Reaseguradora 2       1500000.0  34285.714286   64285.714286\n",
       "Excedente Reaseguradora 3       2500000.0  57142.857143  107142.857143\n",
       "Facultativo                     1500000.0  34285.714286   64285.714286"
      ]
     },
     "execution_count": 11,
     "metadata": {},
     "output_type": "execute_result"
    }
   ],
   "source": [
    "#Ejemplo 3\n",
    "excedentes(500_000,10,7_000_000,160_000,300_000 ,[20,30,50])"
   ]
  },
  {
   "cell_type": "code",
   "execution_count": 12,
   "metadata": {},
   "outputs": [
    {
     "data": {
      "text/html": [
       "<div>\n",
       "<style scoped>\n",
       "    .dataframe tbody tr th:only-of-type {\n",
       "        vertical-align: middle;\n",
       "    }\n",
       "\n",
       "    .dataframe tbody tr th {\n",
       "        vertical-align: top;\n",
       "    }\n",
       "\n",
       "    .dataframe thead th {\n",
       "        text-align: right;\n",
       "    }\n",
       "</style>\n",
       "<table border=\"1\" class=\"dataframe\">\n",
       "  <thead>\n",
       "    <tr style=\"text-align: right;\">\n",
       "      <th></th>\n",
       "      <th>Suma Asegurada</th>\n",
       "      <th>Prima</th>\n",
       "      <th>Siniestro</th>\n",
       "    </tr>\n",
       "  </thead>\n",
       "  <tbody>\n",
       "    <tr>\n",
       "      <th>Retención</th>\n",
       "      <td>600000.0</td>\n",
       "      <td>16800.0</td>\n",
       "      <td>54000.0</td>\n",
       "    </tr>\n",
       "    <tr>\n",
       "      <th>Excedente Reaseguradora 1</th>\n",
       "      <td>1650000.0</td>\n",
       "      <td>46200.0</td>\n",
       "      <td>148500.0</td>\n",
       "    </tr>\n",
       "    <tr>\n",
       "      <th>Excedente Reaseguradora 2</th>\n",
       "      <td>2310000.0</td>\n",
       "      <td>64680.0</td>\n",
       "      <td>207900.0</td>\n",
       "    </tr>\n",
       "    <tr>\n",
       "      <th>Excedente Reaseguradora 3</th>\n",
       "      <td>1980000.0</td>\n",
       "      <td>55440.0</td>\n",
       "      <td>178200.0</td>\n",
       "    </tr>\n",
       "    <tr>\n",
       "      <th>Excedente Reaseguradora 4</th>\n",
       "      <td>660000.0</td>\n",
       "      <td>18480.0</td>\n",
       "      <td>59400.0</td>\n",
       "    </tr>\n",
       "    <tr>\n",
       "      <th>Facultativo</th>\n",
       "      <td>2800000.0</td>\n",
       "      <td>78400.0</td>\n",
       "      <td>252000.0</td>\n",
       "    </tr>\n",
       "  </tbody>\n",
       "</table>\n",
       "</div>"
      ],
      "text/plain": [
       "                           Suma Asegurada    Prima  Siniestro\n",
       "Retención                        600000.0  16800.0    54000.0\n",
       "Excedente Reaseguradora 1       1650000.0  46200.0   148500.0\n",
       "Excedente Reaseguradora 2       2310000.0  64680.0   207900.0\n",
       "Excedente Reaseguradora 3       1980000.0  55440.0   178200.0\n",
       "Excedente Reaseguradora 4        660000.0  18480.0    59400.0\n",
       "Facultativo                     2800000.0  78400.0   252000.0"
      ]
     },
     "execution_count": 12,
     "metadata": {},
     "output_type": "execute_result"
    }
   ],
   "source": [
    "#Ejemplo 4\n",
    "excedentes(600_000,11,10_000_000,280_000,900_000,[25,35,30,10])"
   ]
  },
  {
   "cell_type": "markdown",
   "metadata": {},
   "source": [
    "#  Cuota Parte y Excedente \n"
   ]
  },
  {
   "cell_type": "code",
   "execution_count": 13,
   "metadata": {},
   "outputs": [],
   "source": [
    "def cuota_excedente(cuota_par,reten,lineas,SA,PE,SIN,REAS,EXCEDEN):\n",
    "    \"\"\"\n",
    "    Función que calcula el reaseguro de cuota parte junto con el de excedente \n",
    "    \n",
    "    Inputs:\n",
    "    \n",
    "    cuota_par:float\n",
    "    \n",
    "    Es el porcentaje con el que se se queda la aseguradora en el contrato cuota parte\n",
    "    \n",
    "    reten:float\n",
    "    \n",
    "    Es el límite de retención del contrato cuota parte\n",
    "    \n",
    "    lineas:int\n",
    "     \n",
    "     Es el número de lineas par el contrato de excedentes\n",
    "     \n",
    "     SA:int\n",
    "     \n",
    "     Valor de la suma asegurada\n",
    "     \n",
    "     PE:int\n",
    "     \n",
    "     Valor de la prima emitida\n",
    "     \n",
    "     SIN:int\n",
    "     \n",
    "     Valor del siniestro\n",
    "     \n",
    "     REAS:list\n",
    "     \n",
    "     Lista con el valor del porcentaje de  participación de las reaseguradoras para los contratos cuota parte\n",
    "     \n",
    "     EXCEDEN:list\n",
    "     \n",
    "     Lista con el valor del porcentaje de  participación de las reaseguradoras para los contratos de excedente\n",
    "\n",
    "     \n",
    "     Output:\n",
    "     \n",
    "     Dataframe\n",
    "    \"\"\"\n",
    "    reten_cuota=min(cuota_par*reten,cuota_par*SA)\n",
    "    columnas=['Retención']+['CP Reasegurador '+str(i+1) for i in range(len(REAS))]\n",
    "    if reten_cuota==cuota_par*SA:\n",
    "        cuota_partes=[SA*(1-cuota_par)*r for r in REAS]\n",
    "        general=[reten_cuota]+cuota_partes\n",
    "    else:\n",
    "        capacidad=reten*lineas\n",
    "        cuotas_partes=[reten*(1-cuota_par)*r for r in REAS]\n",
    "        columnas+=['Exc Reasegurador '+str(j+1) for j in range(len(REAS))]\n",
    "        if SA<=(reten+capacidad):\n",
    "            excedentes=[(SA-reten)*exc for exc in EXCEDEN]\n",
    "            general=[reten_cuota]+cuotas_partes+excedentes\n",
    "        else:\n",
    "            excedentes=[capacidad*exc for exc in EXCEDEN]\n",
    "            general=[reten_cuota]+cuotas_partes+excedentes\n",
    "        if SA>sum(general):\n",
    "                facultativo=SA-sum(general)\n",
    "                general+=[facultativo]\n",
    "                columnas+=['Facultativo']        \n",
    "    porcentajes=[g/SA for g in general]\n",
    "    primas=[PE*p for p in porcentajes]\n",
    "    siniestros=[SIN*p for p in porcentajes]\n",
    "    df=pd.DataFrame([general,primas,siniestros],columns=columnas).T\n",
    "    df.columns=['Suma Asegurada','Prima','Siniestro']\n",
    "    return df        "
   ]
  },
  {
   "cell_type": "code",
   "execution_count": 14,
   "metadata": {},
   "outputs": [
    {
     "data": {
      "text/html": [
       "<div>\n",
       "<style scoped>\n",
       "    .dataframe tbody tr th:only-of-type {\n",
       "        vertical-align: middle;\n",
       "    }\n",
       "\n",
       "    .dataframe tbody tr th {\n",
       "        vertical-align: top;\n",
       "    }\n",
       "\n",
       "    .dataframe thead th {\n",
       "        text-align: right;\n",
       "    }\n",
       "</style>\n",
       "<table border=\"1\" class=\"dataframe\">\n",
       "  <thead>\n",
       "    <tr style=\"text-align: right;\">\n",
       "      <th></th>\n",
       "      <th>Suma Asegurada</th>\n",
       "      <th>Prima</th>\n",
       "      <th>Siniestro</th>\n",
       "    </tr>\n",
       "  </thead>\n",
       "  <tbody>\n",
       "    <tr>\n",
       "      <th>Retención</th>\n",
       "      <td>210000.0</td>\n",
       "      <td>3000.0</td>\n",
       "      <td>150000.0</td>\n",
       "    </tr>\n",
       "    <tr>\n",
       "      <th>CP Reasegurador 1</th>\n",
       "      <td>147000.0</td>\n",
       "      <td>2100.0</td>\n",
       "      <td>105000.0</td>\n",
       "    </tr>\n",
       "    <tr>\n",
       "      <th>CP Reasegurador 2</th>\n",
       "      <td>343000.0</td>\n",
       "      <td>4900.0</td>\n",
       "      <td>245000.0</td>\n",
       "    </tr>\n",
       "  </tbody>\n",
       "</table>\n",
       "</div>"
      ],
      "text/plain": [
       "                   Suma Asegurada   Prima  Siniestro\n",
       "Retención                210000.0  3000.0   150000.0\n",
       "CP Reasegurador 1        147000.0  2100.0   105000.0\n",
       "CP Reasegurador 2        343000.0  4900.0   245000.0"
      ]
     },
     "execution_count": 14,
     "metadata": {},
     "output_type": "execute_result"
    }
   ],
   "source": [
    "#Ejemplo 1\n",
    "cuota_excedente(0.3,1_000_000,10,700_000,10_000,500_000,[0.3,0.7],[0.6,0.4])"
   ]
  },
  {
   "cell_type": "code",
   "execution_count": 15,
   "metadata": {},
   "outputs": [
    {
     "data": {
      "text/html": [
       "<div>\n",
       "<style scoped>\n",
       "    .dataframe tbody tr th:only-of-type {\n",
       "        vertical-align: middle;\n",
       "    }\n",
       "\n",
       "    .dataframe tbody tr th {\n",
       "        vertical-align: top;\n",
       "    }\n",
       "\n",
       "    .dataframe thead th {\n",
       "        text-align: right;\n",
       "    }\n",
       "</style>\n",
       "<table border=\"1\" class=\"dataframe\">\n",
       "  <thead>\n",
       "    <tr style=\"text-align: right;\">\n",
       "      <th></th>\n",
       "      <th>Suma Asegurada</th>\n",
       "      <th>Prima</th>\n",
       "      <th>Siniestro</th>\n",
       "    </tr>\n",
       "  </thead>\n",
       "  <tbody>\n",
       "    <tr>\n",
       "      <th>Retención</th>\n",
       "      <td>300000.0</td>\n",
       "      <td>3600.0</td>\n",
       "      <td>36000.0</td>\n",
       "    </tr>\n",
       "    <tr>\n",
       "      <th>CP Reasegurador 1</th>\n",
       "      <td>210000.0</td>\n",
       "      <td>2520.0</td>\n",
       "      <td>25200.0</td>\n",
       "    </tr>\n",
       "    <tr>\n",
       "      <th>CP Reasegurador 2</th>\n",
       "      <td>490000.0</td>\n",
       "      <td>5880.0</td>\n",
       "      <td>58800.0</td>\n",
       "    </tr>\n",
       "    <tr>\n",
       "      <th>Exc Reasegurador 1</th>\n",
       "      <td>2400000.0</td>\n",
       "      <td>28800.0</td>\n",
       "      <td>288000.0</td>\n",
       "    </tr>\n",
       "    <tr>\n",
       "      <th>Exc Reasegurador 2</th>\n",
       "      <td>1600000.0</td>\n",
       "      <td>19200.0</td>\n",
       "      <td>192000.0</td>\n",
       "    </tr>\n",
       "  </tbody>\n",
       "</table>\n",
       "</div>"
      ],
      "text/plain": [
       "                    Suma Asegurada    Prima  Siniestro\n",
       "Retención                 300000.0   3600.0    36000.0\n",
       "CP Reasegurador 1         210000.0   2520.0    25200.0\n",
       "CP Reasegurador 2         490000.0   5880.0    58800.0\n",
       "Exc Reasegurador 1       2400000.0  28800.0   288000.0\n",
       "Exc Reasegurador 2       1600000.0  19200.0   192000.0"
      ]
     },
     "execution_count": 15,
     "metadata": {},
     "output_type": "execute_result"
    }
   ],
   "source": [
    "#Ejemplo 2\n",
    "cuota_excedente(0.3,1_000_000,10,5_000_000,60_000,600_000,[0.3,0.7],[0.6,0.4])"
   ]
  },
  {
   "cell_type": "code",
   "execution_count": 16,
   "metadata": {},
   "outputs": [
    {
     "data": {
      "text/html": [
       "<div>\n",
       "<style scoped>\n",
       "    .dataframe tbody tr th:only-of-type {\n",
       "        vertical-align: middle;\n",
       "    }\n",
       "\n",
       "    .dataframe tbody tr th {\n",
       "        vertical-align: top;\n",
       "    }\n",
       "\n",
       "    .dataframe thead th {\n",
       "        text-align: right;\n",
       "    }\n",
       "</style>\n",
       "<table border=\"1\" class=\"dataframe\">\n",
       "  <thead>\n",
       "    <tr style=\"text-align: right;\">\n",
       "      <th></th>\n",
       "      <th>Suma Asegurada</th>\n",
       "      <th>Prima</th>\n",
       "      <th>Siniestro</th>\n",
       "    </tr>\n",
       "  </thead>\n",
       "  <tbody>\n",
       "    <tr>\n",
       "      <th>Retención</th>\n",
       "      <td>300000.0</td>\n",
       "      <td>5357.142857</td>\n",
       "      <td>42857.142857</td>\n",
       "    </tr>\n",
       "    <tr>\n",
       "      <th>CP Reasegurador 1</th>\n",
       "      <td>210000.0</td>\n",
       "      <td>3750.000000</td>\n",
       "      <td>30000.000000</td>\n",
       "    </tr>\n",
       "    <tr>\n",
       "      <th>CP Reasegurador 2</th>\n",
       "      <td>490000.0</td>\n",
       "      <td>8750.000000</td>\n",
       "      <td>70000.000000</td>\n",
       "    </tr>\n",
       "    <tr>\n",
       "      <th>Exc Reasegurador 1</th>\n",
       "      <td>3600000.0</td>\n",
       "      <td>64285.714286</td>\n",
       "      <td>514285.714286</td>\n",
       "    </tr>\n",
       "    <tr>\n",
       "      <th>Exc Reasegurador 2</th>\n",
       "      <td>2400000.0</td>\n",
       "      <td>42857.142857</td>\n",
       "      <td>342857.142857</td>\n",
       "    </tr>\n",
       "  </tbody>\n",
       "</table>\n",
       "</div>"
      ],
      "text/plain": [
       "                    Suma Asegurada         Prima      Siniestro\n",
       "Retención                 300000.0   5357.142857   42857.142857\n",
       "CP Reasegurador 1         210000.0   3750.000000   30000.000000\n",
       "CP Reasegurador 2         490000.0   8750.000000   70000.000000\n",
       "Exc Reasegurador 1       3600000.0  64285.714286  514285.714286\n",
       "Exc Reasegurador 2       2400000.0  42857.142857  342857.142857"
      ]
     },
     "execution_count": 16,
     "metadata": {},
     "output_type": "execute_result"
    }
   ],
   "source": [
    "#Ejemplo 3\n",
    "cuota_excedente(0.3,1_000_000,10,7_000_000,125_000,1_000_000,[0.3,0.7],[0.6,0.4])"
   ]
  },
  {
   "cell_type": "code",
   "execution_count": 17,
   "metadata": {},
   "outputs": [
    {
     "data": {
      "text/html": [
       "<div>\n",
       "<style scoped>\n",
       "    .dataframe tbody tr th:only-of-type {\n",
       "        vertical-align: middle;\n",
       "    }\n",
       "\n",
       "    .dataframe tbody tr th {\n",
       "        vertical-align: top;\n",
       "    }\n",
       "\n",
       "    .dataframe thead th {\n",
       "        text-align: right;\n",
       "    }\n",
       "</style>\n",
       "<table border=\"1\" class=\"dataframe\">\n",
       "  <thead>\n",
       "    <tr style=\"text-align: right;\">\n",
       "      <th></th>\n",
       "      <th>Suma Asegurada</th>\n",
       "      <th>Prima</th>\n",
       "      <th>Siniestro</th>\n",
       "    </tr>\n",
       "  </thead>\n",
       "  <tbody>\n",
       "    <tr>\n",
       "      <th>Retención</th>\n",
       "      <td>300000.0</td>\n",
       "      <td>4000.000000</td>\n",
       "      <td>6.250000e+04</td>\n",
       "    </tr>\n",
       "    <tr>\n",
       "      <th>CP Reasegurador 1</th>\n",
       "      <td>210000.0</td>\n",
       "      <td>2800.000000</td>\n",
       "      <td>4.375000e+04</td>\n",
       "    </tr>\n",
       "    <tr>\n",
       "      <th>CP Reasegurador 2</th>\n",
       "      <td>490000.0</td>\n",
       "      <td>6533.333333</td>\n",
       "      <td>1.020833e+05</td>\n",
       "    </tr>\n",
       "    <tr>\n",
       "      <th>Exc Reasegurador 1</th>\n",
       "      <td>6000000.0</td>\n",
       "      <td>80000.000000</td>\n",
       "      <td>1.250000e+06</td>\n",
       "    </tr>\n",
       "    <tr>\n",
       "      <th>Exc Reasegurador 2</th>\n",
       "      <td>4000000.0</td>\n",
       "      <td>53333.333333</td>\n",
       "      <td>8.333333e+05</td>\n",
       "    </tr>\n",
       "    <tr>\n",
       "      <th>Facultativo</th>\n",
       "      <td>1000000.0</td>\n",
       "      <td>13333.333333</td>\n",
       "      <td>2.083333e+05</td>\n",
       "    </tr>\n",
       "  </tbody>\n",
       "</table>\n",
       "</div>"
      ],
      "text/plain": [
       "                    Suma Asegurada         Prima     Siniestro\n",
       "Retención                 300000.0   4000.000000  6.250000e+04\n",
       "CP Reasegurador 1         210000.0   2800.000000  4.375000e+04\n",
       "CP Reasegurador 2         490000.0   6533.333333  1.020833e+05\n",
       "Exc Reasegurador 1       6000000.0  80000.000000  1.250000e+06\n",
       "Exc Reasegurador 2       4000000.0  53333.333333  8.333333e+05\n",
       "Facultativo              1000000.0  13333.333333  2.083333e+05"
      ]
     },
     "execution_count": 17,
     "metadata": {},
     "output_type": "execute_result"
    }
   ],
   "source": [
    "#Ejemplo 4\n",
    "cuota_excedente(0.3,1_000_000,10,12_000_000,160_000,2_500_000,[0.3,0.7],[0.6,0.4])\n"
   ]
  },
  {
   "cell_type": "code",
   "execution_count": 18,
   "metadata": {},
   "outputs": [
    {
     "data": {
      "text/html": [
       "<div>\n",
       "<style scoped>\n",
       "    .dataframe tbody tr th:only-of-type {\n",
       "        vertical-align: middle;\n",
       "    }\n",
       "\n",
       "    .dataframe tbody tr th {\n",
       "        vertical-align: top;\n",
       "    }\n",
       "\n",
       "    .dataframe thead th {\n",
       "        text-align: right;\n",
       "    }\n",
       "</style>\n",
       "<table border=\"1\" class=\"dataframe\">\n",
       "  <thead>\n",
       "    <tr style=\"text-align: right;\">\n",
       "      <th></th>\n",
       "      <th>Suma Asegurada</th>\n",
       "      <th>Prima</th>\n",
       "      <th>Siniestro</th>\n",
       "    </tr>\n",
       "  </thead>\n",
       "  <tbody>\n",
       "    <tr>\n",
       "      <th>Retención</th>\n",
       "      <td>400000.0</td>\n",
       "      <td>5714.285714</td>\n",
       "      <td>1.085714e+05</td>\n",
       "    </tr>\n",
       "    <tr>\n",
       "      <th>CP Reasegurador 1</th>\n",
       "      <td>360000.0</td>\n",
       "      <td>5142.857143</td>\n",
       "      <td>9.771429e+04</td>\n",
       "    </tr>\n",
       "    <tr>\n",
       "      <th>CP Reasegurador 2</th>\n",
       "      <td>240000.0</td>\n",
       "      <td>3428.571429</td>\n",
       "      <td>6.514286e+04</td>\n",
       "    </tr>\n",
       "    <tr>\n",
       "      <th>Exc Reasegurador 1</th>\n",
       "      <td>2000000.0</td>\n",
       "      <td>28571.428571</td>\n",
       "      <td>5.428571e+05</td>\n",
       "    </tr>\n",
       "    <tr>\n",
       "      <th>Exc Reasegurador 2</th>\n",
       "      <td>8000000.0</td>\n",
       "      <td>114285.714286</td>\n",
       "      <td>2.171429e+06</td>\n",
       "    </tr>\n",
       "    <tr>\n",
       "      <th>Facultativo</th>\n",
       "      <td>3000000.0</td>\n",
       "      <td>42857.142857</td>\n",
       "      <td>8.142857e+05</td>\n",
       "    </tr>\n",
       "  </tbody>\n",
       "</table>\n",
       "</div>"
      ],
      "text/plain": [
       "                    Suma Asegurada          Prima     Siniestro\n",
       "Retención                 400000.0    5714.285714  1.085714e+05\n",
       "CP Reasegurador 1         360000.0    5142.857143  9.771429e+04\n",
       "CP Reasegurador 2         240000.0    3428.571429  6.514286e+04\n",
       "Exc Reasegurador 1       2000000.0   28571.428571  5.428571e+05\n",
       "Exc Reasegurador 2       8000000.0  114285.714286  2.171429e+06\n",
       "Facultativo              3000000.0   42857.142857  8.142857e+05"
      ]
     },
     "execution_count": 18,
     "metadata": {},
     "output_type": "execute_result"
    }
   ],
   "source": [
    "#Ejemplo 5\n",
    "cuota_excedente(0.4,1_000_000,10,14_000_000,200_000,3_800_000,[0.6,0.4],[0.2,0.8])"
   ]
  },
  {
   "cell_type": "markdown",
   "metadata": {},
   "source": [
    "# Excedentes Cuota Parte y Taba de Plenos"
   ]
  },
  {
   "cell_type": "code",
   "execution_count": 19,
   "metadata": {},
   "outputs": [],
   "source": [
    "def excedentes_cuota_plenos(cuota_par,lim_rente,lineas,Plenos,SA,PE):\n",
    "    \"\"\"\n",
    "    Función que cálcula el reaseguro de un contrato de cuota parte, excedente y tabla de plenos\n",
    "    \n",
    "    Inputs:\n",
    "    \n",
    "    cuota_par:float\n",
    "    Es el porcentaje de retención de la asegudora en el contrato de cuota parte\n",
    "    \n",
    "    lim_rente:int\n",
    "    Es el límite de retención en el cotrato de cuota parte\n",
    "    \n",
    "    lineas:int\n",
    "    Es el número de líneas que teiene el contrato de excedentes\n",
    "    \n",
    "    plenos:list\n",
    "    Lista con los porcentajes de la tabla de plenos\n",
    "    \n",
    "    SA: list\n",
    "    Lista con  las sumas asegruradas, con los riesgos en las tablas de pleno\n",
    "    \n",
    "    PE:list\n",
    "    Lista con el valor de las primas emitidas\n",
    "    \n",
    "    Output:\n",
    "    DataFrame\n",
    "    \n",
    "    \"\"\"\n",
    "    def porcenta_tuple(terna): return [i/sum(terna) for i in terna]\n",
    "    def mult_list(lista,n): return [round(n*l*1_000,2) for l in lista]\n",
    "    reten_plenos=[p*lim_rente for p in Plenos]\n",
    "    reten_sa=[rt*cuota_par for rt in reten_plenos]\n",
    "    cuota_partes=[rt*(1-cuota_par) for rt in reten_plenos]\n",
    "    excedentes=[sa-rt for sa,rt in zip(SA,reten_plenos)]\n",
    "    general=[(r,c,e) for r,c,e in zip(reten_sa,cuota_partes,excedentes)]\n",
    "    porcentajes=[porcenta_tuple(tupla) for tupla in general]\n",
    "    primas=[mult_list(por,Prim) for por,Prim in zip(porcentajes,PE)]    \n",
    "    df=pd.DataFrame([reten_sa,cuota_partes,excedentes],\n",
    "                        columns=[\"Riesgo \"+str(i+1) for i in range(len(Plenos))]).T\n",
    "    df.columns=[\"Retención\",'Cuota Parte','Excedentes']\n",
    "    df=df.T\n",
    "    df_primas=pd.DataFrame(primas,columns=[\"Retención\",'Cuota Parte','Excedentes']).T\n",
    "    df_primas.columns=[\"Riesgo \"+str(i+1) for i in range(len(Plenos))]    \n",
    "    return df,df_primas"
   ]
  },
  {
   "cell_type": "code",
   "execution_count": 20,
   "metadata": {},
   "outputs": [
    {
     "data": {
      "text/plain": [
       "(             Riesgo 1   Riesgo 2   Riesgo 3\n",
       " Retención    125000.0   250000.0   400000.0\n",
       " Cuota Parte  125000.0   250000.0   400000.0\n",
       " Excedentes   350000.0  2500000.0  6200000.0,\n",
       "              Riesgo 1     Riesgo 2     Riesgo 3\n",
       " Retención     1041.67   2083333.33   3428571.43\n",
       " Cuota Parte   1041.67   2083333.33   3428571.43\n",
       " Excedentes    2916.67  20833333.33  53142857.14)"
      ]
     },
     "execution_count": 20,
     "metadata": {},
     "output_type": "execute_result"
    }
   ],
   "source": [
    "excedentes_cuota_plenos(0.5,1_000_000,10,[0.25,0.5,0.8],[600_000,3_000_000,7_000_000],[5,25_000,60_000])"
   ]
  },
  {
   "cell_type": "markdown",
   "metadata": {},
   "source": [
    "# WXL"
   ]
  },
  {
   "cell_type": "code",
   "execution_count": 21,
   "metadata": {},
   "outputs": [],
   "source": [
    "def wxl(prioridad,WXL,siniestro):\n",
    "    '''\n",
    "    Función que cálcula el contrato de reaguro WXL\n",
    "    \n",
    "    Inputs:\n",
    "    \n",
    "    Priorida:int\n",
    "    \n",
    "    Es la prioridad del contrato\n",
    "    \n",
    "    WXL:list\n",
    "    \n",
    "    Lista con las capas del contrato\n",
    "    \n",
    "    siniestro:int\n",
    "    \n",
    "    Monto del siniestro\n",
    "    \n",
    "    Output:\n",
    "    list\n",
    "    '''\n",
    "    nueva_prioridad=min(siniestro,prioridad)\n",
    "    if nueva_prioridad == siniestro:\n",
    "        return \"Prioridad = \" +str(siniestro)\n",
    "    else:\n",
    "        acum=[nueva_prioridad]\n",
    "        for capa in WXL:\n",
    "            if sum(acum)<siniestro:\n",
    "                acum+=[min(capa,siniestro-sum(acum))]\n",
    "        return acum        "
   ]
  },
  {
   "cell_type": "code",
   "execution_count": 22,
   "metadata": {},
   "outputs": [
    {
     "data": {
      "text/plain": [
       "'Prioridad = 300000'"
      ]
     },
     "execution_count": 22,
     "metadata": {},
     "output_type": "execute_result"
    }
   ],
   "source": [
    "#Ejemplo 1\n",
    "wxl(500_000,[500_000],300_000)"
   ]
  },
  {
   "cell_type": "code",
   "execution_count": 23,
   "metadata": {},
   "outputs": [
    {
     "data": {
      "text/plain": [
       "[500000, 100000]"
      ]
     },
     "execution_count": 23,
     "metadata": {},
     "output_type": "execute_result"
    }
   ],
   "source": [
    "#Ejemplo 2\n",
    "wxl(500_000,[500_000],600_000)"
   ]
  },
  {
   "cell_type": "code",
   "execution_count": 24,
   "metadata": {},
   "outputs": [
    {
     "data": {
      "text/plain": [
       "[500000, 100000]"
      ]
     },
     "execution_count": 24,
     "metadata": {},
     "output_type": "execute_result"
    }
   ],
   "source": [
    "#Ejemplo 3\n",
    "wxl(500_000,[200_000,500_000],600_000)"
   ]
  },
  {
   "cell_type": "code",
   "execution_count": 25,
   "metadata": {},
   "outputs": [
    {
     "data": {
      "text/plain": [
       "[500000, 200000]"
      ]
     },
     "execution_count": 25,
     "metadata": {},
     "output_type": "execute_result"
    }
   ],
   "source": [
    "#Ejemplo 4\n",
    "wxl(500_000,[200_000,500_000],700_000)"
   ]
  },
  {
   "cell_type": "code",
   "execution_count": 26,
   "metadata": {},
   "outputs": [
    {
     "data": {
      "text/plain": [
       "[500000, 200000, 150000]"
      ]
     },
     "execution_count": 26,
     "metadata": {},
     "output_type": "execute_result"
    }
   ],
   "source": [
    "#Ejemplo 5\n",
    "wxl(500_000,[200_000,500_000],850_000)"
   ]
  },
  {
   "cell_type": "code",
   "execution_count": 27,
   "metadata": {},
   "outputs": [
    {
     "data": {
      "text/plain": [
       "[400000, 100000, 150000, 50000]"
      ]
     },
     "execution_count": 27,
     "metadata": {},
     "output_type": "execute_result"
    }
   ],
   "source": [
    "#Ejemplo 6\n",
    "wxl(400_000,[100_000,150_000,200_000],700_000)"
   ]
  },
  {
   "cell_type": "markdown",
   "metadata": {},
   "source": [
    "# WXL & Excedentes "
   ]
  },
  {
   "cell_type": "code",
   "execution_count": 28,
   "metadata": {},
   "outputs": [],
   "source": [
    "def wxl_excedente(lim_reten,lineas,prioridad,WXL,REA,SA,PE,SIN):\n",
    "    '''\n",
    "    Función que cálcula el contrato de reaseguro wxl y excedente\n",
    "    \n",
    "    Inputs:\n",
    "    \n",
    "    lim_reten:int\n",
    "    \n",
    "    Limite de retención\n",
    "    \n",
    "    lineas:int\n",
    "    \n",
    "    Número de lineas del contrato\n",
    "    \n",
    "    prioridad:int\n",
    "    \n",
    "    Prioridad en el contrato WXL\n",
    "    \n",
    "    WXL:list\n",
    "    \n",
    "    Lista conlas capas del contrato WXL\n",
    "    \n",
    "    REA:list\n",
    "    \n",
    "    Lista con los porcentajas de las reaseguradoras\n",
    "    \n",
    "    SA,PE,SIN\n",
    "    \n",
    "    Output\n",
    "    '''\n",
    "    df_excedente=excedentes(lim_reten,lineas, SA, PE, SIN, REA)\n",
    "    siniestro_retencion=df_excedente['Siniestro']['Retención']\n",
    "    return df_excedente,wxl(prioridad,WXL,siniestro_retencion)\n",
    "    \n",
    "    "
   ]
  },
  {
   "cell_type": "code",
   "execution_count": 29,
   "metadata": {},
   "outputs": [
    {
     "data": {
      "text/plain": [
       "(                           Suma Asegurada    Prima  Siniestro\n",
       " Retención                       5000000.0  62500.0  3000000.0\n",
       " Excedente Reaseguradora 1       6000000.0  75000.0  3600000.0\n",
       " Excedente Reaseguradora 2       3750000.0  46875.0  2250000.0\n",
       " Excedente Reaseguradora 3       5250000.0  65625.0  3150000.0,\n",
       " [1000000, 2000000.0])"
      ]
     },
     "execution_count": 29,
     "metadata": {},
     "output_type": "execute_result"
    }
   ],
   "source": [
    "wxl_excedente(5_000_000,10, 1_000_000,[3_000_000,1_000_000],\n",
    "              [0.4,0.25,0.35],20_000_000,250_000,12_000_000)"
   ]
  },
  {
   "cell_type": "code",
   "execution_count": 30,
   "metadata": {},
   "outputs": [
    {
     "data": {
      "text/plain": [
       "(                           Suma Asegurada    Prima  Siniestro\n",
       " Retención                       5000000.0  62500.0  3000000.0\n",
       " Excedente Reaseguradora 1       6000000.0  75000.0  3600000.0\n",
       " Excedente Reaseguradora 2       3750000.0  46875.0  2250000.0\n",
       " Excedente Reaseguradora 3       5250000.0  65625.0  3150000.0,\n",
       " [1000000, 1500000, 500000.0])"
      ]
     },
     "execution_count": 30,
     "metadata": {},
     "output_type": "execute_result"
    }
   ],
   "source": [
    "wxl_excedente(5_000_000,10, 1_000_000,[1_500_000,1_000_000], \n",
    "              [0.4,0.25,0.35],20_000_000,250_000,12_000_000)"
   ]
  }
 ],
 "metadata": {
  "kernelspec": {
   "display_name": "Python 3",
   "language": "python",
   "name": "python3"
  },
  "language_info": {
   "codemirror_mode": {
    "name": "ipython",
    "version": 3
   },
   "file_extension": ".py",
   "mimetype": "text/x-python",
   "name": "python",
   "nbconvert_exporter": "python",
   "pygments_lexer": "ipython3",
   "version": "3.7.0"
  }
 },
 "nbformat": 4,
 "nbformat_minor": 2
}
