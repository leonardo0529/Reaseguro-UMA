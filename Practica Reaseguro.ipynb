{
 "cells": [
  {
   "cell_type": "code",
   "execution_count": 15,
   "metadata": {},
   "outputs": [],
   "source": [
    "import pandas as pd"
   ]
  },
  {
   "cell_type": "code",
   "execution_count": 14,
   "metadata": {},
   "outputs": [
    {
     "data": {
      "text/plain": [
       "([240000.0, 108000.0, 251999.99999999997],\n",
       " [10000.0, 4500.0, 10499.999999999998],\n",
       " [48000.0, 21600.0, 50399.99999999999])"
      ]
     },
     "execution_count": 14,
     "metadata": {},
     "output_type": "execute_result"
    }
   ],
   "source": [
    "def cuota_parte(cuota,capacidad,SA,PE,SIN,Rea):\n",
    "    \"\"\"Función que calcula el contrato de reaguro cuota parte\n",
    "    \n",
    "    Inputs:\n",
    "    Cuota: float\n",
    "    \n",
    "    Es el porcentaje de la cuota parte\n",
    "    \n",
    "    Capacidad: float\n",
    "    \n",
    "    Es la capacidad del contrato\n",
    "    \n",
    "    SA: float\n",
    "    \n",
    "    Es la suma asegurada\n",
    "    \n",
    "    PE: float\n",
    "    \n",
    "    Es el valor de la prima emitida\n",
    "    \n",
    "    SIN: float\n",
    "    \n",
    "     Es el valor del siniestro\n",
    "     \n",
    "     Rea:list\n",
    "     \n",
    "     Lista con los porcentajes de las aseguradoras\n",
    "    \n",
    "    \"\"\"\n",
    "    Sa=[min(cuota*SA,cuota*capacidad)]\n",
    "    for ase in Rea:\n",
    "        Sa+=[(SA-Sa[0])*ase]\n",
    "    porcentajes=[x/SA for x in Sa]\n",
    "    primas=[p*PE for p in porcentajes]\n",
    "    siniestros=[p*SIN for p in porcentajes]\n",
    "    return Sa,primas,siniestros\n",
    "cuota_parte(0.4,2_000_000,600_000,25_000,120_000,[0.3,0.7])"
   ]
  }
 ],
 "metadata": {
  "kernelspec": {
   "display_name": "Python 3",
   "language": "python",
   "name": "python3"
  },
  "language_info": {
   "codemirror_mode": {
    "name": "ipython",
    "version": 3
   },
   "file_extension": ".py",
   "mimetype": "text/x-python",
   "name": "python",
   "nbconvert_exporter": "python",
   "pygments_lexer": "ipython3",
   "version": "3.7.0"
  }
 },
 "nbformat": 4,
 "nbformat_minor": 2
}
