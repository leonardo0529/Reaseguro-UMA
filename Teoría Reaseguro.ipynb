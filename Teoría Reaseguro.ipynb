{
 "cells": [
  {
   "cell_type": "markdown",
   "metadata": {},
   "source": [
    "# Reaseguro \n",
    "\n",
    "#### Definición\n",
    "\n",
    "Es el seguro del riesgo asumido por el asegurador\n",
    "\n",
    "#### Caracteristicas\n",
    "\n",
    "* Ayuda a la supcripción de grandes riesgos\n",
    "\n",
    "* Es un contrato de máxima buena fe\n",
    "\n",
    "* El reasegurador confia en la veracidad de las informaciones del asegurador\n",
    "\n",
    "#### Utilidad\n",
    "\n",
    "* El reaseguro ayuda a homogenizar la cartera de la aseguradora\n",
    "\n",
    "* El reaseguro puede ayudar a la asegurada en el manejo de reclamaciones\n",
    "\n",
    "* En los grandes riesgos ayudan a establecer las primas\n",
    "\n",
    "**Conceptos clave**\n",
    "\n",
    "*Retroceseión*  \n",
    "\n",
    "Es el reaseguro cedido por una reaseguradora a otra entidad aseguradora o reaseguradora\n",
    "\n",
    "\n",
    "*Pool de Reaseguro*\n",
    "\n",
    "* Un pool, us un acuerdo de coopreación entre un cierto número de entidades que operan en un mercado concreto\n",
    "\n",
    "\n",
    "* La poliza emitadida por uno de los miembros, se distribuye entre los restantes de acuerdo co los porcentajes del contrato pool\n",
    "\n",
    "**el asegurado desconoce estos porcentajes**\n",
    "\n",
    "**La siguiente imagen muestra como se clasifica el reaseguro** \n",
    "\n",
    "![Clasificación del reaseguro](clasificación_reaseguro.jpg)\n",
    "\n",
    "\n",
    "<center>  Elaboarción propia con datos de Sevilla,R </center>\n",
    "\n",
    "\n"
   ]
  }
 ],
 "metadata": {
  "kernelspec": {
   "display_name": "Python 3",
   "language": "python",
   "name": "python3"
  },
  "language_info": {
   "codemirror_mode": {
    "name": "ipython",
    "version": 3
   },
   "file_extension": ".py",
   "mimetype": "text/x-python",
   "name": "python",
   "nbconvert_exporter": "python",
   "pygments_lexer": "ipython3",
   "version": "3.7.0"
  }
 },
 "nbformat": 4,
 "nbformat_minor": 2
}
